{
  "nbformat": 4,
  "nbformat_minor": 0,
  "metadata": {
    "colab": {
      "provenance": [],
      "authorship_tag": "ABX9TyPMyZsfizWN6i4XzYEQFINQ",
      "include_colab_link": true
    },
    "kernelspec": {
      "name": "python3",
      "display_name": "Python 3"
    },
    "language_info": {
      "name": "python"
    }
  },
  "cells": [
    {
      "cell_type": "markdown",
      "metadata": {
        "id": "view-in-github",
        "colab_type": "text"
      },
      "source": [
        "<a href=\"https://colab.research.google.com/github/stesialydia/SMS-Spam-detection-system/blob/main/xmlToCsvConversionScript.ipynb\" target=\"_parent\"><img src=\"https://colab.research.google.com/assets/colab-badge.svg\" alt=\"Open In Colab\"/></a>"
      ]
    },
    {
      "cell_type": "code",
      "execution_count": null,
      "metadata": {
        "id": "dlNkmz32tFPf"
      },
      "outputs": [],
      "source": [
        "import xml.etree.ElementTree as ET\n",
        "import csv\n"
      ]
    },
    {
      "cell_type": "code",
      "source": [
        "import xml.etree.ElementTree as ET\n",
        "import csv\n",
        "\n",
        "# Input and output file names\n",
        "xml_file = '/smsFile.xml'  # Replace with your XML file\n",
        "csv_file = '/output.csv'  # Replace with your desired CSV file\n",
        "\n",
        "try:\n",
        "    tree = ET.parse(xml_file)\n",
        "    root = tree.getroot()\n",
        "\n",
        "    # Define the expected CSV header\n",
        "    header = ['id', 'protocol', 'address', 'date', 'type', 'subject', 'body', 'toa', 'sc_toa',\n",
        "              'service_center', 'read', 'status', 'locked', 'date_sent', 'sub_id', 'readable_date', 'contact_name']\n",
        "\n",
        "    # Open the CSV file for writing\n",
        "    with open(csv_file, 'w', newline='', encoding='utf-8') as csvfile:\n",
        "        csv_writer = csv.writer(csvfile)\n",
        "        csv_writer.writerow(header)  # Write the header row\n",
        "\n",
        "        # Iterate through the XML elements and extract data\n",
        "        for idx, element in enumerate(root.findall('.//sms'), start=1):  # Auto-generate ID\n",
        "            row = [\n",
        "                idx,  # Auto-incremented ID\n",
        "                element.get('protocol', ''),\n",
        "                element.get('address', ''),\n",
        "                element.get('date', ''),\n",
        "                element.get('type', ''),\n",
        "                element.get('subject', ''),\n",
        "                element.get('body', ''),\n",
        "                element.get('toa', ''),\n",
        "                element.get('sc_toa', ''),\n",
        "                element.get('service_center', ''),\n",
        "                element.get('read', ''),\n",
        "                element.get('status', ''),\n",
        "                element.get('locked', ''),\n",
        "                element.get('date_sent', ''),\n",
        "                element.get('sub_id', ''),\n",
        "                element.get('readable_date', ''),\n",
        "                element.get('contact_name', '')\n",
        "            ]\n",
        "\n",
        "            csv_writer.writerow(row)  # Write the row to CSV\n",
        "\n",
        "    print(f\"Successfully converted '{xml_file}' to '{csv_file}' with auto-generated IDs.\")\n",
        "\n",
        "except FileNotFoundError:\n",
        "    print(f\"Error: XML file not found: {xml_file}\")\n",
        "except ET.ParseError:\n",
        "    print(f\"Error: Failed to parse XML. Check if '{xml_file}' is a valid XML file.\")\n",
        "except Exception as e:\n",
        "    print(f\"An error occurred: {e}\")\n"
      ],
      "metadata": {
        "colab": {
          "base_uri": "https://localhost:8080/"
        },
        "id": "m10EXahstQAM",
        "outputId": "1b0153bf-0db9-467e-ca62-bc2887d64c35"
      },
      "execution_count": null,
      "outputs": [
        {
          "output_type": "stream",
          "name": "stdout",
          "text": [
            "Successfully converted '/smsFile.xml' to '/output.csv' with auto-generated IDs.\n"
          ]
        }
      ]
    }
  ]
}